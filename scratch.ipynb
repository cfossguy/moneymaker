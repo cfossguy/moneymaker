{
 "cells": [
  {
   "cell_type": "code",
   "execution_count": null,
   "metadata": {},
   "outputs": [],
   "source": [
    "import pandas as pd\n",
    "\n",
    "url = \"https://en.wikipedia.org/wiki/List_of_S%26P_500_companies\"\n",
    "tables = pd.read_html(url)\n",
    "stocks_frame = tables[0]  # The first table on the page is the S&P 500 list\n",
    "\n",
    "stocks_frame = stocks_frame.rename(columns={'Symbol': 'ticker', 'Security': 'name', 'GICS Sector': 'sector', 'GICS Sub-Industry': 'industry'})\n",
    "\n",
    "print(stocks_frame)"
   ]
  },
  {
   "cell_type": "code",
   "execution_count": null,
   "metadata": {},
   "outputs": [],
   "source": [
    "!pip install lxml yfinance"
   ]
  },
  {
   "cell_type": "code",
   "execution_count": null,
   "metadata": {},
   "outputs": [],
   "source": [
    "import yfinance as yf\n",
    "\n",
    "# Assume you have the ticker symbol from the CIK\n",
    "ticker_symbol = \"AAPL\"\n",
    "\n",
    "# Get the ticker data\n",
    "#ticker_data = yf.Ticker(ticker_symbol)\n",
    "ticker_data = yf.Tickers('AAPL', 'MSFT')\n",
    "\n",
    "# Get the market cap\n",
    "#market_cap = ticker_data.info['marketCap']\n",
    "print(ticker_data.tickers.get('AAPL'))\n",
    "\n",
    "#print(f\"The market cap of {ticker_symbol} is {market_cap}\")"
   ]
  },
  {
   "cell_type": "code",
   "execution_count": 4,
   "metadata": {},
   "outputs": [
    {
     "ename": "AttributeError",
     "evalue": "'SingleIndicatorResults' object has no attribute 'results'",
     "output_type": "error",
     "traceback": [
      "\u001b[0;31m---------------------------------------------------------------------------\u001b[0m",
      "\u001b[0;31mAttributeError\u001b[0m                            Traceback (most recent call last)",
      "Cell \u001b[0;32mIn[4], line 7\u001b[0m\n\u001b[1;32m      5\u001b[0m \u001b[38;5;66;03m#resp = client.reference_tickers_v2(ticker='AAPL')\u001b[39;00m\n\u001b[1;32m      6\u001b[0m resp \u001b[38;5;241m=\u001b[39m client\u001b[38;5;241m.\u001b[39mget_ema(\u001b[38;5;124m'\u001b[39m\u001b[38;5;124mAAPL\u001b[39m\u001b[38;5;124m'\u001b[39m)\n\u001b[0;32m----> 7\u001b[0m \u001b[38;5;28mprint\u001b[39m(\u001b[43mresp\u001b[49m\u001b[38;5;241;43m.\u001b[39;49m\u001b[43mresults\u001b[49m[\u001b[38;5;241m0\u001b[39m])\n",
      "\u001b[0;31mAttributeError\u001b[0m: 'SingleIndicatorResults' object has no attribute 'results'"
     ]
    }
   ],
   "source": [
    "from polygon import RESTClient\n",
    "polygon_api_key = 'hMKWTfyHjX9UnU_CMiQ8VyYQ4VLM_Ie3'\n",
    "client = RESTClient(api_key=polygon_api_key)\n",
    "\n",
    "#resp = client.reference_tickers_v2(ticker='AAPL')\n",
    "resp = client.get_ema('AAPL')\n",
    "print(resp)"
   ]
  }
 ],
 "metadata": {
  "kernelspec": {
   "display_name": "venv",
   "language": "python",
   "name": "python3"
  },
  "language_info": {
   "codemirror_mode": {
    "name": "ipython",
    "version": 3
   },
   "file_extension": ".py",
   "mimetype": "text/x-python",
   "name": "python",
   "nbconvert_exporter": "python",
   "pygments_lexer": "ipython3",
   "version": "3.11.3"
  }
 },
 "nbformat": 4,
 "nbformat_minor": 2
}
