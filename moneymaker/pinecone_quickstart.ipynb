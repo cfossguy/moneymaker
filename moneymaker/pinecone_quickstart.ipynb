{
 "cells": [
  {
   "cell_type": "code",
   "execution_count": 35,
   "id": "647bfe27-6d8a-455f-a586-37ac4f96b082",
   "metadata": {
    "tags": []
   },
   "outputs": [],
   "source": [
    "import pinecone\n",
    "import os\n",
    "from dotenv import load_dotenv\n",
    "\n",
    "load_dotenv()\n",
    "pinecone_api_key = os.getenv('pinecone_api_key')\n",
    "pinecone_env = os.getenv('pinecone_env')\n",
    "\n",
    "pinecone.init(api_key=f'{pinecone_api_key}', environment=f'{pinecone_env}')"
   ]
  },
  {
   "cell_type": "code",
   "execution_count": 34,
   "id": "da58bc07-cbf4-4674-b1af-53b4f6573368",
   "metadata": {
    "tags": []
   },
   "outputs": [
    {
     "data": {
      "text/plain": [
       "{'upserted_count': 5}"
      ]
     },
     "execution_count": 34,
     "metadata": {},
     "output_type": "execute_result"
    }
   ],
   "source": [
    "pinecone.create_index(\"example-index\", dimension=8, metric=\"euclidean\", pod_type=\"p1\")\n",
    "index = pinecone.Index(\"example-index\")\n",
    "\n",
    "index.upsert([\n",
    "    (\"A\", [0.1, 0.1, 0.1, 0.1, 0.1, 0.1, 0.1, 0.1], {\"genre\": \"comedy\", \"year\": 2020}),\n",
    "    (\"B\", [0.2, 0.2, 0.2, 0.2, 0.2, 0.2, 0.2, 0.2], {\"genre\": \"documentary\", \"year\": 2019}),\n",
    "    (\"C\", [0.3, 0.3, 0.3, 0.3, 0.3, 0.3, 0.3, 0.3], {\"genre\": \"comedy\", \"year\": 2019}),\n",
    "    (\"D\", [0.4, 0.4, 0.4, 0.4, 0.4, 0.4, 0.4, 0.4], {\"genre\": \"drama\"}),\n",
    "    (\"E\", [0.5, 0.5, 0.5, 0.5, 0.5, 0.5, 0.5, 0.5], {\"genre\": \"drama\"})\n",
    "])"
   ]
  },
  {
   "cell_type": "code",
   "execution_count": 45,
   "id": "ff1c0455-6a72-4f10-a2a8-f46477fa1942",
   "metadata": {
    "tags": []
   },
   "outputs": [
    {
     "data": {
      "text/plain": [
       "{'matches': [{'id': 'A',\n",
       "              'metadata': {'genre': 'comedy', 'year': 2020.0},\n",
       "              'score': 0.0,\n",
       "              'sparseValues': {},\n",
       "              'values': []},\n",
       "             {'id': 'C',\n",
       "              'metadata': {'genre': 'comedy', 'year': 2019.0},\n",
       "              'score': 0.32,\n",
       "              'sparseValues': {},\n",
       "              'values': []}],\n",
       " 'namespace': ''}"
      ]
     },
     "execution_count": 45,
     "metadata": {},
     "output_type": "execute_result"
    }
   ],
   "source": [
    "index.query(\n",
    "    vector=[0.1, 0.1, 0.1, 0.1, 0.1, 0.1, 0.1, 0.1],\n",
    "    filter={\n",
    "        \"genre\": {\"$eq\": \"comedy\"}\n",
    "    },\n",
    "    top_k=3,\n",
    "    include_metadata=True\n",
    ")\n"
   ]
  },
  {
   "cell_type": "code",
   "execution_count": null,
   "id": "cf39d31a-629b-4eaf-8b97-ab779715b614",
   "metadata": {
    "tags": []
   },
   "outputs": [
    {
     "data": {
      "text/plain": [
       "{'matches': [{'id': 'C',\n",
       "              'score': 0.0,\n",
       "              'sparseValues': {},\n",
       "              'values': [0.3, 0.3, 0.3, 0.3, 0.3, 0.3, 0.3, 0.3]},\n",
       "             {'id': 'B',\n",
       "              'score': 0.0800000429,\n",
       "              'sparseValues': {},\n",
       "              'values': [0.2, 0.2, 0.2, 0.2, 0.2, 0.2, 0.2, 0.2]},\n",
       "             {'id': 'A',\n",
       "              'score': 0.32,\n",
       "              'sparseValues': {},\n",
       "              'values': [0.1, 0.1, 0.1, 0.1, 0.1, 0.1, 0.1, 0.1]}],\n",
       " 'namespace': ''}"
      ]
     },
     "execution_count": 31,
     "metadata": {},
     "output_type": "execute_result"
    }
   ],
   "source": [
    "index.query(\n",
    "        vector=[0.3, 0.3, 0.3, 0.3, 0.3, 0.3, 0.3, 0.3],\n",
    "        top_k=3,\n",
    "        include_values=True\n",
    "    )"
   ]
  },
  {
   "cell_type": "code",
   "execution_count": 41,
   "id": "da91d072-5230-406a-8d0a-975ae646e568",
   "metadata": {
    "tags": []
   },
   "outputs": [
    {
     "data": {
      "text/plain": [
       "{}"
      ]
     },
     "execution_count": 41,
     "metadata": {},
     "output_type": "execute_result"
    }
   ],
   "source": [
    "index.delete(\n",
    "    filter={\n",
    "        \"genre\": {\"$eq\": \"documentary\"},\n",
    "        \"year\": 2019\n",
    "    }\n",
    ")"
   ]
  },
  {
   "cell_type": "code",
   "execution_count": 44,
   "id": "ee80d9fa-5581-4262-bb6e-11c5115cbf72",
   "metadata": {
    "tags": []
   },
   "outputs": [],
   "source": [
    "pinecone.create_collection(\"example-collection\", \"example-index\")"
   ]
  },
  {
   "cell_type": "code",
   "execution_count": null,
   "id": "c02614ff-a967-4a1d-9a8e-4dfa778765e3",
   "metadata": {},
   "outputs": [],
   "source": []
  }
 ],
 "metadata": {
  "kernelspec": {
   "display_name": "Python 3 (ipykernel)",
   "language": "python",
   "name": "python3"
  },
  "language_info": {
   "codemirror_mode": {
    "name": "ipython",
    "version": 3
   },
   "file_extension": ".py",
   "mimetype": "text/x-python",
   "name": "python",
   "nbconvert_exporter": "python",
   "pygments_lexer": "ipython3",
   "version": "3.10.2"
  }
 },
 "nbformat": 4,
 "nbformat_minor": 5
}
