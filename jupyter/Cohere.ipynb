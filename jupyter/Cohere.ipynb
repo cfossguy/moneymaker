{
 "cells": [
  {
   "cell_type": "code",
   "execution_count": 24,
   "id": "5c904d23",
   "metadata": {},
   "outputs": [
    {
     "name": "stdout",
     "output_type": "stream",
     "text": [
      "Requirement already satisfied: cohere in /Library/Frameworks/Python.framework/Versions/3.10/lib/python3.10/site-packages (4.1.1)\n",
      "Collecting cohere\n",
      "  Downloading cohere-4.1.2-py3-none-any.whl (28 kB)\n",
      "Requirement already satisfied: pinecone-client in /Library/Frameworks/Python.framework/Versions/3.10/lib/python3.10/site-packages (2.2.1)\n",
      "Requirement already satisfied: datasets in /Library/Frameworks/Python.framework/Versions/3.10/lib/python3.10/site-packages (2.10.1)\n",
      "Requirement already satisfied: aiohttp<4.0,>=3.0 in /Library/Frameworks/Python.framework/Versions/3.10/lib/python3.10/site-packages (from cohere) (3.8.4)\n",
      "Requirement already satisfied: requests<3.0,>=2.0 in /Library/Frameworks/Python.framework/Versions/3.10/lib/python3.10/site-packages (from cohere) (2.28.0)\n",
      "Requirement already satisfied: backoff<3.0,>=2.0 in /Library/Frameworks/Python.framework/Versions/3.10/lib/python3.10/site-packages (from cohere) (2.2.1)\n",
      "Requirement already satisfied: tqdm>=4.64.1 in /Library/Frameworks/Python.framework/Versions/3.10/lib/python3.10/site-packages (from pinecone-client) (4.64.1)\n",
      "Requirement already satisfied: dnspython>=2.0.0 in /Library/Frameworks/Python.framework/Versions/3.10/lib/python3.10/site-packages (from pinecone-client) (2.2.1)\n",
      "Requirement already satisfied: numpy in /Library/Frameworks/Python.framework/Versions/3.10/lib/python3.10/site-packages (from pinecone-client) (1.22.4)\n",
      "Requirement already satisfied: urllib3>=1.21.1 in /Library/Frameworks/Python.framework/Versions/3.10/lib/python3.10/site-packages (from pinecone-client) (1.26.9)\n",
      "Requirement already satisfied: pyyaml>=5.4 in /Library/Frameworks/Python.framework/Versions/3.10/lib/python3.10/site-packages (from pinecone-client) (6.0)\n",
      "Requirement already satisfied: loguru>=0.5.0 in /Library/Frameworks/Python.framework/Versions/3.10/lib/python3.10/site-packages (from pinecone-client) (0.6.0)\n",
      "Requirement already satisfied: python-dateutil>=2.5.3 in /Library/Frameworks/Python.framework/Versions/3.10/lib/python3.10/site-packages (from pinecone-client) (2.8.2)\n",
      "Requirement already satisfied: typing-extensions>=3.7.4 in /Library/Frameworks/Python.framework/Versions/3.10/lib/python3.10/site-packages (from pinecone-client) (4.3.0)\n",
      "Requirement already satisfied: responses<0.19 in /Library/Frameworks/Python.framework/Versions/3.10/lib/python3.10/site-packages (from datasets) (0.18.0)\n",
      "Requirement already satisfied: fsspec[http]>=2021.11.1 in /Library/Frameworks/Python.framework/Versions/3.10/lib/python3.10/site-packages (from datasets) (2023.3.0)\n",
      "Requirement already satisfied: pyarrow>=6.0.0 in /Library/Frameworks/Python.framework/Versions/3.10/lib/python3.10/site-packages (from datasets) (11.0.0)\n",
      "Requirement already satisfied: packaging in /Users/jwilliams/Library/Python/3.10/lib/python/site-packages (from datasets) (21.3)\n",
      "Requirement already satisfied: multiprocess in /Library/Frameworks/Python.framework/Versions/3.10/lib/python3.10/site-packages (from datasets) (0.70.14)\n",
      "Requirement already satisfied: dill<0.3.7,>=0.3.0 in /Library/Frameworks/Python.framework/Versions/3.10/lib/python3.10/site-packages (from datasets) (0.3.6)\n",
      "Requirement already satisfied: xxhash in /Library/Frameworks/Python.framework/Versions/3.10/lib/python3.10/site-packages (from datasets) (3.2.0)\n",
      "Requirement already satisfied: pandas in /Library/Frameworks/Python.framework/Versions/3.10/lib/python3.10/site-packages (from datasets) (1.4.2)\n",
      "Requirement already satisfied: huggingface-hub<1.0.0,>=0.2.0 in /Library/Frameworks/Python.framework/Versions/3.10/lib/python3.10/site-packages (from datasets) (0.13.1)\n",
      "Requirement already satisfied: attrs>=17.3.0 in /Library/Frameworks/Python.framework/Versions/3.10/lib/python3.10/site-packages (from aiohttp<4.0,>=3.0->cohere) (20.3.0)\n",
      "Requirement already satisfied: charset-normalizer<4.0,>=2.0 in /Library/Frameworks/Python.framework/Versions/3.10/lib/python3.10/site-packages (from aiohttp<4.0,>=3.0->cohere) (2.0.12)\n",
      "Requirement already satisfied: frozenlist>=1.1.1 in /Library/Frameworks/Python.framework/Versions/3.10/lib/python3.10/site-packages (from aiohttp<4.0,>=3.0->cohere) (1.3.3)\n",
      "Requirement already satisfied: multidict<7.0,>=4.5 in /Library/Frameworks/Python.framework/Versions/3.10/lib/python3.10/site-packages (from aiohttp<4.0,>=3.0->cohere) (6.0.4)\n",
      "Requirement already satisfied: aiosignal>=1.1.2 in /Library/Frameworks/Python.framework/Versions/3.10/lib/python3.10/site-packages (from aiohttp<4.0,>=3.0->cohere) (1.3.1)\n",
      "Requirement already satisfied: async-timeout<5.0,>=4.0.0a3 in /Library/Frameworks/Python.framework/Versions/3.10/lib/python3.10/site-packages (from aiohttp<4.0,>=3.0->cohere) (4.0.2)\n",
      "Requirement already satisfied: yarl<2.0,>=1.0 in /Library/Frameworks/Python.framework/Versions/3.10/lib/python3.10/site-packages (from aiohttp<4.0,>=3.0->cohere) (1.8.2)\n",
      "Requirement already satisfied: filelock in /Library/Frameworks/Python.framework/Versions/3.10/lib/python3.10/site-packages (from huggingface-hub<1.0.0,>=0.2.0->datasets) (3.4.2)\n",
      "Requirement already satisfied: pyparsing!=3.0.5,>=2.0.2 in /Library/Frameworks/Python.framework/Versions/3.10/lib/python3.10/site-packages (from packaging->datasets) (3.0.9)\n",
      "Requirement already satisfied: six>=1.5 in /Library/Frameworks/Python.framework/Versions/3.10/lib/python3.10/site-packages (from python-dateutil>=2.5.3->pinecone-client) (1.16.0)\n",
      "Requirement already satisfied: idna<4,>=2.5 in /Library/Frameworks/Python.framework/Versions/3.10/lib/python3.10/site-packages (from requests<3.0,>=2.0->cohere) (3.3)\n",
      "Requirement already satisfied: certifi>=2017.4.17 in /Library/Frameworks/Python.framework/Versions/3.10/lib/python3.10/site-packages (from requests<3.0,>=2.0->cohere) (2022.12.7)\n",
      "Requirement already satisfied: pytz>=2020.1 in /Library/Frameworks/Python.framework/Versions/3.10/lib/python3.10/site-packages (from pandas->datasets) (2022.1)\n",
      "Installing collected packages: cohere\n",
      "  Attempting uninstall: cohere\n",
      "    Found existing installation: cohere 4.1.1\n",
      "    Uninstalling cohere-4.1.1:\n",
      "      Successfully uninstalled cohere-4.1.1\n",
      "Successfully installed cohere-4.1.2\n",
      "\n",
      "\u001b[1m[\u001b[0m\u001b[34;49mnotice\u001b[0m\u001b[1;39;49m]\u001b[0m\u001b[39;49m A new release of pip is available: \u001b[0m\u001b[31;49m23.0\u001b[0m\u001b[39;49m -> \u001b[0m\u001b[32;49m23.0.1\u001b[0m\n",
      "\u001b[1m[\u001b[0m\u001b[34;49mnotice\u001b[0m\u001b[1;39;49m]\u001b[0m\u001b[39;49m To update, run: \u001b[0m\u001b[32;49mpip install --upgrade pip\u001b[0m\n",
      "Note: you may need to restart the kernel to use updated packages.\n"
     ]
    }
   ],
   "source": [
    "pip install -U cohere pinecone-client datasets"
   ]
  },
  {
   "cell_type": "code",
   "execution_count": 25,
   "id": "23348661",
   "metadata": {},
   "outputs": [],
   "source": [
    "import cohere\n",
    "\n",
    "co = cohere.Client(\"ho3GEkFCWyYQcRhrjvHkYgM7l54BQ5CsHCJ1UMEC\")"
   ]
  },
  {
   "cell_type": "code",
   "execution_count": 26,
   "id": "5f5cb4df",
   "metadata": {},
   "outputs": [
    {
     "name": "stderr",
     "output_type": "stream",
     "text": [
      "Found cached dataset trec (/Users/jwilliams/.cache/huggingface/datasets/trec/default/2.0.0/f2469cab1b5fceec7249fda55360dfdbd92a7a5b545e91ea0f78ad108ffac1c2)\n"
     ]
    }
   ],
   "source": [
    "from datasets import load_dataset\n",
    "\n",
    "# load the first 1K rows of the TREC dataset\n",
    "trec = load_dataset('trec', split='train[:1000]')"
   ]
  },
  {
   "cell_type": "code",
   "execution_count": 27,
   "id": "2afd2da3",
   "metadata": {},
   "outputs": [],
   "source": [
    "embeds = co.embed(\n",
    "    texts=trec['text'],\n",
    "    model='small',\n",
    "    truncate='LEFT'\n",
    ").embeddings"
   ]
  },
  {
   "cell_type": "code",
   "execution_count": 28,
   "id": "0e10338a",
   "metadata": {},
   "outputs": [
    {
     "name": "stdout",
     "output_type": "stream",
     "text": [
      "(1000, 1024)\n"
     ]
    }
   ],
   "source": [
    "import numpy as np\n",
    "\n",
    "shape = np.array(embeds).shape\n",
    "print(shape)"
   ]
  },
  {
   "cell_type": "code",
   "execution_count": 29,
   "id": "3a150c89",
   "metadata": {},
   "outputs": [],
   "source": [
    "import pinecone\n",
    "\n",
    "# initialize connection to pinecone (get API key at app.pinecone.io)\n",
    "pinecone.init(api_key=\"a3895c8f-9f97-4424-9b50-ac62e03fed4c\", environment=\"us-west1-gcp\")\n",
    "\n",
    "index_name = 'cohere-pinecone-trec'\n",
    "\n",
    "# if the index does not exist, we create it\n",
    "if index_name not in pinecone.list_indexes():\n",
    "    pinecone.create_index(\n",
    "        index_name,\n",
    "        dimension=shape[1],\n",
    "        metric='cosine'\n",
    "    )\n",
    "\n",
    "# connect to index\n",
    "index = pinecone.Index(index_name)"
   ]
  },
  {
   "cell_type": "code",
   "execution_count": 31,
   "id": "99f4721d",
   "metadata": {},
   "outputs": [
    {
     "name": "stdout",
     "output_type": "stream",
     "text": [
      "{'dimension': 1024,\n",
      " 'index_fullness': 0.0,\n",
      " 'namespaces': {'': {'vector_count': 1000}},\n",
      " 'total_vector_count': 1000}\n"
     ]
    }
   ],
   "source": [
    "batch_size = 128\n",
    "\n",
    "ids = [str(i) for i in range(shape[0])]\n",
    "# create list of metadata dictionaries\n",
    "meta = [{'text': text} for text in trec['text']]\n",
    "\n",
    "# create list of (id, vector, metadata) tuples to be upserted\n",
    "to_upsert = list(zip(ids, embeds, meta))\n",
    "\n",
    "for i in range(0, shape[0], batch_size):\n",
    "    i_end = min(i+batch_size, shape[0])\n",
    "    index.upsert(vectors=to_upsert[i:i_end])\n",
    "\n",
    "# let's view the index statistics\n",
    "print(index.describe_index_stats())"
   ]
  },
  {
   "cell_type": "code",
   "execution_count": 32,
   "id": "3c41f698",
   "metadata": {},
   "outputs": [
    {
     "name": "stdout",
     "output_type": "stream",
     "text": [
      "(1, 1024)\n"
     ]
    }
   ],
   "source": [
    "query = \"What caused the 1929 Great Depression?\"\n",
    "\n",
    "# create the query embedding\n",
    "xq = co.embed(\n",
    "    texts=[query],\n",
    "    model='small',\n",
    "    truncate='LEFT'\n",
    ").embeddings\n",
    "\n",
    "print(np.array(xq).shape)\n",
    "\n",
    "# query, returning the top 5 most similar results\n",
    "res = index.query(xq, top_k=5, include_metadata=True)"
   ]
  },
  {
   "cell_type": "code",
   "execution_count": 33,
   "id": "bed045c4",
   "metadata": {},
   "outputs": [
    {
     "name": "stdout",
     "output_type": "stream",
     "text": [
      "0.83: Why did the world enter a global depression in 1929 ?\n",
      "0.75: When was `` the Great Depression '' ?\n",
      "0.50: What crop failure caused the Irish Famine ?\n",
      "0.34: What war did the Wanna-Go-Home Riots occur after ?\n",
      "0.34: What were popular songs and types of songs in the 1920s ?\n"
     ]
    }
   ],
   "source": [
    "for match in res['matches']:\n",
    "    print(f\"{match['score']:.2f}: {match['metadata']['text']}\")"
   ]
  },
  {
   "cell_type": "code",
   "execution_count": 34,
   "id": "7aacbeaa",
   "metadata": {},
   "outputs": [
    {
     "name": "stdout",
     "output_type": "stream",
     "text": [
      "0.71: Why did the world enter a global depression in 1929 ?\n",
      "0.62: When was `` the Great Depression '' ?\n",
      "0.40: What crop failure caused the Irish Famine ?\n",
      "0.38: What are some of the significant historical events of the 1990s ?\n",
      "0.38: When did the Dow first reach ?\n",
      "0.35: What were popular songs and types of songs in the 1920s ?\n",
      "0.33: What was the education system in the 1960 's ?\n",
      "0.32: Give a reason for American Indians oftentimes dropping out of school .\n",
      "0.31: What war did the Wanna-Go-Home Riots occur after ?\n",
      "0.30: What historical event happened in Dogtown in 1899 ?\n"
     ]
    }
   ],
   "source": [
    "query = \"Why was there a long-term economic downturn in the early 20th century?\"\n",
    "\n",
    "# create the query embedding\n",
    "xq = co.embed(\n",
    "    texts=[query],\n",
    "    model='small',\n",
    "    truncate='LEFT'\n",
    ").embeddings\n",
    "\n",
    "# query, returning the top 10 most similar results\n",
    "res = index.query(xq, top_k=10, include_metadata=True)\n",
    "\n",
    "for match in res['matches']:\n",
    "    print(f\"{match['score']:.2f}: {match['metadata']['text']}\")"
   ]
  },
  {
   "cell_type": "code",
   "execution_count": null,
   "id": "f4f6dddd",
   "metadata": {},
   "outputs": [],
   "source": []
  }
 ],
 "metadata": {
  "kernelspec": {
   "display_name": "Python 3 (ipykernel)",
   "language": "python",
   "name": "python3"
  },
  "language_info": {
   "codemirror_mode": {
    "name": "ipython",
    "version": 3
   },
   "file_extension": ".py",
   "mimetype": "text/x-python",
   "name": "python",
   "nbconvert_exporter": "python",
   "pygments_lexer": "ipython3",
   "version": "3.10.2"
  }
 },
 "nbformat": 4,
 "nbformat_minor": 5
}
