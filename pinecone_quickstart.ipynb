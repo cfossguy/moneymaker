{
 "cells": [
  {
   "cell_type": "code",
   "execution_count": 7,
   "id": "266d1b4e-7a10-44fc-9440-0799dffed841",
   "metadata": {
    "tags": []
   },
   "outputs": [
    {
     "name": "stdout",
     "output_type": "stream",
     "text": [
      "None\n"
     ]
    }
   ],
   "source": [
    "import pinecone\n",
    "import os\n",
    "from dotenv import load_dotenv\n",
    "\n",
    "load_dotenv()\n",
    "pinecone_api_key = os.getenv('pinecone_api_key')\n",
    "pinecone_env = os.getenv('pinecone_env')\n",
    "\n",
    "print(f'{pinecone_api_key}')\n",
    "\n",
    "#pinecone.init(api_key=f'{pinecone_api_key}', environment=f'{pinecone_env}')"
   ]
  },
  {
   "cell_type": "code",
   "execution_count": 4,
   "id": "91f09565-0e11-4819-8b8f-568d125752e3",
   "metadata": {
    "tags": []
   },
   "outputs": [
    {
     "name": "stdout",
     "output_type": "stream",
     "text": [
      "None\n"
     ]
    }
   ],
   "source": []
  },
  {
   "cell_type": "code",
   "execution_count": null,
   "id": "7d4b8e3f-5644-436e-911a-a588bd706239",
   "metadata": {},
   "outputs": [],
   "source": []
  }
 ],
 "metadata": {
  "kernelspec": {
   "display_name": "Python 3 (ipykernel)",
   "language": "python",
   "name": "python3"
  },
  "language_info": {
   "codemirror_mode": {
    "name": "ipython",
    "version": 3
   },
   "file_extension": ".py",
   "mimetype": "text/x-python",
   "name": "python",
   "nbconvert_exporter": "python",
   "pygments_lexer": "ipython3",
   "version": "3.10.2"
  }
 },
 "nbformat": 4,
 "nbformat_minor": 5
}